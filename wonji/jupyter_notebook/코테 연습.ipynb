{
 "cells": [
  {
   "cell_type": "markdown",
   "id": "0bce0e3e",
   "metadata": {},
   "source": [
    "프로그래머스 - 자연수 뒤집어 배열로 만들기"
   ]
  },
  {
   "cell_type": "code",
   "execution_count": 47,
   "id": "cfbbf87a",
   "metadata": {},
   "outputs": [
    {
     "data": {
      "text/plain": [
       "[5, 4, 3, 2, 1]"
      ]
     },
     "execution_count": 47,
     "metadata": {},
     "output_type": "execute_result"
    }
   ],
   "source": [
    "n = 12345\n",
    "\n",
    "def solution(n):\n",
    "    answer = [int(i) for i in str(n)]\n",
    "    answer.sort(reverse=True)\n",
    "    return answer\n",
    "\n",
    "solution(n)\n",
    "\n",
    "# 위코드 정확성검사 15.3 "
   ]
  },
  {
   "cell_type": "code",
   "execution_count": null,
   "id": "73b9c920",
   "metadata": {},
   "outputs": [],
   "source": [
    "def solution(n):\n",
    "    arr = list(str(n))\n",
    "    arr.reverse()\n",
    "    \n",
    "    return list(map(int, arr))"
   ]
  },
  {
   "cell_type": "markdown",
   "id": "c2f26039",
   "metadata": {},
   "source": [
    "나머지가 1이 되는 수 찾기"
   ]
  },
  {
   "cell_type": "code",
   "execution_count": 63,
   "id": "38a35cca",
   "metadata": {},
   "outputs": [
    {
     "data": {
      "text/plain": [
       "3"
      ]
     },
     "execution_count": 63,
     "metadata": {},
     "output_type": "execute_result"
    }
   ],
   "source": [
    "n = 10\n",
    "\n",
    "def solution(n):\n",
    "    for x in range(1,n):\n",
    "        if n % x == 1 :\n",
    "            return x\n",
    "\n",
    "solution(n)\n"
   ]
  },
  {
   "cell_type": "code",
   "execution_count": 54,
   "id": "c57a29bd",
   "metadata": {
    "scrolled": true
   },
   "outputs": [
    {
     "name": "stdout",
     "output_type": "stream",
     "text": [
      "1\n",
      "1\n",
      "1\n",
      "1\n",
      "1\n",
      "1\n",
      "1\n",
      "1\n",
      "1\n",
      "1\n"
     ]
    }
   ],
   "source": [
    "for x in range(n):\n",
    "    print(1)"
   ]
  },
  {
   "cell_type": "markdown",
   "id": "d6386712",
   "metadata": {},
   "source": [
    "정수 제곱근 판별"
   ]
  },
  {
   "cell_type": "code",
   "execution_count": 8,
   "id": "07d51ff7",
   "metadata": {},
   "outputs": [
    {
     "data": {
      "text/plain": [
       "-1"
      ]
     },
     "execution_count": 8,
     "metadata": {},
     "output_type": "execute_result"
    }
   ],
   "source": [
    "n = 121\n",
    "a = 11\n",
    "\n",
    "def solution(n):\n",
    "    for i in range(n-1):\n",
    "        if i ** 2 == n:\n",
    "            return ((i+1)**2)\n",
    "    return -1\n",
    "\n",
    "\n",
    "        \n",
    "solution(n)"
   ]
  },
  {
   "cell_type": "markdown",
   "id": "126b717b",
   "metadata": {},
   "source": [
    "평균 구하기"
   ]
  },
  {
   "cell_type": "code",
   "execution_count": 16,
   "id": "79c56cfb",
   "metadata": {},
   "outputs": [
    {
     "data": {
      "text/plain": [
       "2.5"
      ]
     },
     "execution_count": 16,
     "metadata": {},
     "output_type": "execute_result"
    }
   ],
   "source": [
    "arr = [1,2,3,4]\n",
    "def solution(arr):\n",
    "    answer = 0\n",
    "    for a in arr:\n",
    "        answer += a\n",
    "    return answer/len(arr)\n",
    "solution(arr)"
   ]
  },
  {
   "cell_type": "markdown",
   "id": "407e242f",
   "metadata": {},
   "source": [
    "정수 내림차순으로 배치하기"
   ]
  },
  {
   "cell_type": "code",
   "execution_count": 19,
   "id": "2f734840",
   "metadata": {},
   "outputs": [
    {
     "data": {
      "text/plain": [
       "0"
      ]
     },
     "execution_count": 19,
     "metadata": {},
     "output_type": "execute_result"
    }
   ],
   "source": [
    "n = 118372\n",
    "def solution(n):\n",
    "    answer = 0\n",
    "    return answer\n",
    "\n",
    "solution(n)"
   ]
  },
  {
   "cell_type": "code",
   "execution_count": 40,
   "id": "47a1417a",
   "metadata": {},
   "outputs": [
    {
     "name": "stdout",
     "output_type": "stream",
     "text": [
      "['1', '1', '8', '3', '7', '2']\n"
     ]
    },
    {
     "data": {
      "text/plain": [
       "873211"
      ]
     },
     "execution_count": 40,
     "metadata": {},
     "output_type": "execute_result"
    }
   ],
   "source": [
    "n = 118372\n",
    "\n",
    "a = list(str(n))\n",
    "a.sort(reverse=True)\n",
    "b = int(\"\".join(a))\n",
    "b"
   ]
  },
  {
   "cell_type": "markdown",
   "id": "b15fc782",
   "metadata": {},
   "source": [
    "하샤드 수"
   ]
  },
  {
   "cell_type": "code",
   "execution_count": 48,
   "id": "7acba194",
   "metadata": {},
   "outputs": [
    {
     "name": "stdout",
     "output_type": "stream",
     "text": [
      "true\n"
     ]
    }
   ],
   "source": [
    "x = 10\n",
    "\n",
    "a = list(str(x))\n",
    "b = 0\n",
    "for i in a:\n",
    "    b += int(i)\n",
    "if x % b == 0 :\n",
    "    print('true')"
   ]
  },
  {
   "cell_type": "code",
   "execution_count": null,
   "id": "70ae88c5",
   "metadata": {},
   "outputs": [],
   "source": [
    "# x만큼 간격이 있는 n개의 숫자\n",
    "\n"
   ]
  },
  {
   "cell_type": "code",
   "execution_count": null,
   "id": "39502283",
   "metadata": {},
   "outputs": [],
   "source": []
  },
  {
   "cell_type": "code",
   "execution_count": null,
   "id": "86176d14",
   "metadata": {},
   "outputs": [],
   "source": []
  },
  {
   "cell_type": "code",
   "execution_count": null,
   "id": "92f7a4cc",
   "metadata": {},
   "outputs": [],
   "source": []
  }
 ],
 "metadata": {
  "kernelspec": {
   "display_name": "Python 3 (ipykernel)",
   "language": "python",
   "name": "python3"
  },
  "language_info": {
   "codemirror_mode": {
    "name": "ipython",
    "version": 3
   },
   "file_extension": ".py",
   "mimetype": "text/x-python",
   "name": "python",
   "nbconvert_exporter": "python",
   "pygments_lexer": "ipython3",
   "version": "3.9.12"
  },
  "toc": {
   "base_numbering": 1,
   "nav_menu": {},
   "number_sections": true,
   "sideBar": true,
   "skip_h1_title": false,
   "title_cell": "Table of Contents",
   "title_sidebar": "Contents",
   "toc_cell": false,
   "toc_position": {},
   "toc_section_display": true,
   "toc_window_display": false
  }
 },
 "nbformat": 4,
 "nbformat_minor": 5
}
